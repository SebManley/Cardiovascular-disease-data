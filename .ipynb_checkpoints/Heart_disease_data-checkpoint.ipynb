{
 "cells": [
  {
   "cell_type": "markdown",
   "id": "bc2b802a-6b7b-47ca-80a9-7baf8c1f72d3",
   "metadata": {},
   "source": [
    "# Importing the required packages:"
   ]
  },
  {
   "cell_type": "code",
   "execution_count": 490,
   "id": "86407af2-d981-4e2c-b6bf-c69e20e06cd4",
   "metadata": {},
   "outputs": [],
   "source": [
    "import numpy as np\n",
    "import pandas as pd\n",
    "import seaborn as sns\n",
    "import matplotlib.pyplot as plt\n",
    "import chardet"
   ]
  },
  {
   "cell_type": "markdown",
   "id": "99320bc2-09a1-4145-a062-29489be933ab",
   "metadata": {},
   "source": [
    "# Data Cleaning and Processing:"
   ]
  },
  {
   "cell_type": "markdown",
   "id": "adacc663-f7a1-4d18-91cd-957dd50cba57",
   "metadata": {},
   "source": [
    "## Reading the parquet file into a pandas dataframe:"
   ]
  },
  {
   "cell_type": "code",
   "execution_count": 491,
   "id": "76517697-d1a5-4fa4-ac8f-c843307cf0bb",
   "metadata": {},
   "outputs": [
    {
     "ename": "ArrowMemoryError",
     "evalue": "malloc of size 1143099008 failed",
     "output_type": "error",
     "traceback": [
      "\u001b[1;31m---------------------------------------------------------------------------\u001b[0m",
      "\u001b[1;31mArrowMemoryError\u001b[0m                          Traceback (most recent call last)",
      "Cell \u001b[1;32mIn[491], line 2\u001b[0m\n\u001b[0;32m      1\u001b[0m path \u001b[38;5;241m=\u001b[39m \u001b[38;5;124mr\u001b[39m\u001b[38;5;124m\"\u001b[39m\u001b[38;5;124mC:\u001b[39m\u001b[38;5;124m\\\u001b[39m\u001b[38;5;124mUsers\u001b[39m\u001b[38;5;124m\\\u001b[39m\u001b[38;5;124mSebma\u001b[39m\u001b[38;5;124m\\\u001b[39m\u001b[38;5;124mOneDrive\u001b[39m\u001b[38;5;124m\\\u001b[39m\u001b[38;5;124mDocuments\u001b[39m\u001b[38;5;124m\\\u001b[39m\u001b[38;5;124mSparta_Global\u001b[39m\u001b[38;5;124m\\\u001b[39m\u001b[38;5;124mAcademy\u001b[39m\u001b[38;5;124m\\\u001b[39m\u001b[38;5;124mWeek 7\u001b[39m\u001b[38;5;124m\\\u001b[39m\u001b[38;5;124mCardiovascular-disease-data\u001b[39m\u001b[38;5;124m\\\u001b[39m\u001b[38;5;124mheart_converted.parquet\u001b[39m\u001b[38;5;124m\"\u001b[39m\n\u001b[1;32m----> 2\u001b[0m heart_df \u001b[38;5;241m=\u001b[39m \u001b[43mpd\u001b[49m\u001b[38;5;241;43m.\u001b[39;49m\u001b[43mread_parquet\u001b[49m\u001b[43m(\u001b[49m\u001b[43mpath\u001b[49m\u001b[43m)\u001b[49m\n\u001b[0;32m      3\u001b[0m heart_df\u001b[38;5;241m.\u001b[39minfo()\n",
      "File \u001b[1;32m~\\AppData\\Local\\Programs\\Python\\Python312\\Lib\\site-packages\\pandas\\io\\parquet.py:670\u001b[0m, in \u001b[0;36mread_parquet\u001b[1;34m(path, engine, columns, storage_options, use_nullable_dtypes, dtype_backend, filesystem, filters, **kwargs)\u001b[0m\n\u001b[0;32m    667\u001b[0m     use_nullable_dtypes \u001b[38;5;241m=\u001b[39m \u001b[38;5;28;01mFalse\u001b[39;00m\n\u001b[0;32m    668\u001b[0m check_dtype_backend(dtype_backend)\n\u001b[1;32m--> 670\u001b[0m \u001b[38;5;28;01mreturn\u001b[39;00m \u001b[43mimpl\u001b[49m\u001b[38;5;241;43m.\u001b[39;49m\u001b[43mread\u001b[49m\u001b[43m(\u001b[49m\n\u001b[0;32m    671\u001b[0m \u001b[43m    \u001b[49m\u001b[43mpath\u001b[49m\u001b[43m,\u001b[49m\n\u001b[0;32m    672\u001b[0m \u001b[43m    \u001b[49m\u001b[43mcolumns\u001b[49m\u001b[38;5;241;43m=\u001b[39;49m\u001b[43mcolumns\u001b[49m\u001b[43m,\u001b[49m\n\u001b[0;32m    673\u001b[0m \u001b[43m    \u001b[49m\u001b[43mfilters\u001b[49m\u001b[38;5;241;43m=\u001b[39;49m\u001b[43mfilters\u001b[49m\u001b[43m,\u001b[49m\n\u001b[0;32m    674\u001b[0m \u001b[43m    \u001b[49m\u001b[43mstorage_options\u001b[49m\u001b[38;5;241;43m=\u001b[39;49m\u001b[43mstorage_options\u001b[49m\u001b[43m,\u001b[49m\n\u001b[0;32m    675\u001b[0m \u001b[43m    \u001b[49m\u001b[43muse_nullable_dtypes\u001b[49m\u001b[38;5;241;43m=\u001b[39;49m\u001b[43muse_nullable_dtypes\u001b[49m\u001b[43m,\u001b[49m\n\u001b[0;32m    676\u001b[0m \u001b[43m    \u001b[49m\u001b[43mdtype_backend\u001b[49m\u001b[38;5;241;43m=\u001b[39;49m\u001b[43mdtype_backend\u001b[49m\u001b[43m,\u001b[49m\n\u001b[0;32m    677\u001b[0m \u001b[43m    \u001b[49m\u001b[43mfilesystem\u001b[49m\u001b[38;5;241;43m=\u001b[39;49m\u001b[43mfilesystem\u001b[49m\u001b[43m,\u001b[49m\n\u001b[0;32m    678\u001b[0m \u001b[43m    \u001b[49m\u001b[38;5;241;43m*\u001b[39;49m\u001b[38;5;241;43m*\u001b[39;49m\u001b[43mkwargs\u001b[49m\u001b[43m,\u001b[49m\n\u001b[0;32m    679\u001b[0m \u001b[43m\u001b[49m\u001b[43m)\u001b[49m\n",
      "File \u001b[1;32m~\\AppData\\Local\\Programs\\Python\\Python312\\Lib\\site-packages\\pandas\\io\\parquet.py:279\u001b[0m, in \u001b[0;36mPyArrowImpl.read\u001b[1;34m(self, path, columns, filters, use_nullable_dtypes, dtype_backend, storage_options, filesystem, **kwargs)\u001b[0m\n\u001b[0;32m    271\u001b[0m \u001b[38;5;28;01mtry\u001b[39;00m:\n\u001b[0;32m    272\u001b[0m     pa_table \u001b[38;5;241m=\u001b[39m \u001b[38;5;28mself\u001b[39m\u001b[38;5;241m.\u001b[39mapi\u001b[38;5;241m.\u001b[39mparquet\u001b[38;5;241m.\u001b[39mread_table(\n\u001b[0;32m    273\u001b[0m         path_or_handle,\n\u001b[0;32m    274\u001b[0m         columns\u001b[38;5;241m=\u001b[39mcolumns,\n\u001b[1;32m   (...)\u001b[0m\n\u001b[0;32m    277\u001b[0m         \u001b[38;5;241m*\u001b[39m\u001b[38;5;241m*\u001b[39mkwargs,\n\u001b[0;32m    278\u001b[0m     )\n\u001b[1;32m--> 279\u001b[0m     result \u001b[38;5;241m=\u001b[39m \u001b[43mpa_table\u001b[49m\u001b[38;5;241;43m.\u001b[39;49m\u001b[43mto_pandas\u001b[49m\u001b[43m(\u001b[49m\u001b[38;5;241;43m*\u001b[39;49m\u001b[38;5;241;43m*\u001b[39;49m\u001b[43mto_pandas_kwargs\u001b[49m\u001b[43m)\u001b[49m\n\u001b[0;32m    281\u001b[0m     \u001b[38;5;28;01mif\u001b[39;00m manager \u001b[38;5;241m==\u001b[39m \u001b[38;5;124m\"\u001b[39m\u001b[38;5;124marray\u001b[39m\u001b[38;5;124m\"\u001b[39m:\n\u001b[0;32m    282\u001b[0m         result \u001b[38;5;241m=\u001b[39m result\u001b[38;5;241m.\u001b[39m_as_manager(\u001b[38;5;124m\"\u001b[39m\u001b[38;5;124marray\u001b[39m\u001b[38;5;124m\"\u001b[39m, copy\u001b[38;5;241m=\u001b[39m\u001b[38;5;28;01mFalse\u001b[39;00m)\n",
      "File \u001b[1;32m~\\AppData\\Local\\Programs\\Python\\Python312\\Lib\\site-packages\\pyarrow\\array.pxi:884\u001b[0m, in \u001b[0;36mpyarrow.lib._PandasConvertible.to_pandas\u001b[1;34m()\u001b[0m\n",
      "File \u001b[1;32m~\\AppData\\Local\\Programs\\Python\\Python312\\Lib\\site-packages\\pyarrow\\table.pxi:4192\u001b[0m, in \u001b[0;36mpyarrow.lib.Table._to_pandas\u001b[1;34m()\u001b[0m\n",
      "File \u001b[1;32m~\\AppData\\Local\\Programs\\Python\\Python312\\Lib\\site-packages\\pyarrow\\pandas_compat.py:776\u001b[0m, in \u001b[0;36mtable_to_dataframe\u001b[1;34m(options, table, categories, ignore_metadata, types_mapper)\u001b[0m\n\u001b[0;32m    774\u001b[0m _check_data_column_metadata_consistency(all_columns)\n\u001b[0;32m    775\u001b[0m columns \u001b[38;5;241m=\u001b[39m _deserialize_column_index(table, all_columns, column_indexes)\n\u001b[1;32m--> 776\u001b[0m blocks \u001b[38;5;241m=\u001b[39m \u001b[43m_table_to_blocks\u001b[49m\u001b[43m(\u001b[49m\u001b[43moptions\u001b[49m\u001b[43m,\u001b[49m\u001b[43m \u001b[49m\u001b[43mtable\u001b[49m\u001b[43m,\u001b[49m\u001b[43m \u001b[49m\u001b[43mcategories\u001b[49m\u001b[43m,\u001b[49m\u001b[43m \u001b[49m\u001b[43mext_columns_dtypes\u001b[49m\u001b[43m)\u001b[49m\n\u001b[0;32m    778\u001b[0m axes \u001b[38;5;241m=\u001b[39m [columns, index]\n\u001b[0;32m    779\u001b[0m mgr \u001b[38;5;241m=\u001b[39m BlockManager(blocks, axes)\n",
      "File \u001b[1;32m~\\AppData\\Local\\Programs\\Python\\Python312\\Lib\\site-packages\\pyarrow\\pandas_compat.py:1129\u001b[0m, in \u001b[0;36m_table_to_blocks\u001b[1;34m(options, block_table, categories, extension_columns)\u001b[0m\n\u001b[0;32m   1124\u001b[0m \u001b[38;5;28;01mdef\u001b[39;00m \u001b[38;5;21m_table_to_blocks\u001b[39m(options, block_table, categories, extension_columns):\n\u001b[0;32m   1125\u001b[0m     \u001b[38;5;66;03m# Part of table_to_blockmanager\u001b[39;00m\n\u001b[0;32m   1126\u001b[0m \n\u001b[0;32m   1127\u001b[0m     \u001b[38;5;66;03m# Convert an arrow table to Block from the internal pandas API\u001b[39;00m\n\u001b[0;32m   1128\u001b[0m     columns \u001b[38;5;241m=\u001b[39m block_table\u001b[38;5;241m.\u001b[39mcolumn_names\n\u001b[1;32m-> 1129\u001b[0m     result \u001b[38;5;241m=\u001b[39m \u001b[43mpa\u001b[49m\u001b[38;5;241;43m.\u001b[39;49m\u001b[43mlib\u001b[49m\u001b[38;5;241;43m.\u001b[39;49m\u001b[43mtable_to_blocks\u001b[49m\u001b[43m(\u001b[49m\u001b[43moptions\u001b[49m\u001b[43m,\u001b[49m\u001b[43m \u001b[49m\u001b[43mblock_table\u001b[49m\u001b[43m,\u001b[49m\u001b[43m \u001b[49m\u001b[43mcategories\u001b[49m\u001b[43m,\u001b[49m\n\u001b[0;32m   1130\u001b[0m \u001b[43m                                    \u001b[49m\u001b[38;5;28;43mlist\u001b[39;49m\u001b[43m(\u001b[49m\u001b[43mextension_columns\u001b[49m\u001b[38;5;241;43m.\u001b[39;49m\u001b[43mkeys\u001b[49m\u001b[43m(\u001b[49m\u001b[43m)\u001b[49m\u001b[43m)\u001b[49m\u001b[43m)\u001b[49m\n\u001b[0;32m   1131\u001b[0m     \u001b[38;5;28;01mreturn\u001b[39;00m [_reconstruct_block(item, columns, extension_columns)\n\u001b[0;32m   1132\u001b[0m             \u001b[38;5;28;01mfor\u001b[39;00m item \u001b[38;5;129;01min\u001b[39;00m result]\n",
      "File \u001b[1;32m~\\AppData\\Local\\Programs\\Python\\Python312\\Lib\\site-packages\\pyarrow\\table.pxi:3115\u001b[0m, in \u001b[0;36mpyarrow.lib.table_to_blocks\u001b[1;34m()\u001b[0m\n",
      "File \u001b[1;32m~\\AppData\\Local\\Programs\\Python\\Python312\\Lib\\site-packages\\pyarrow\\error.pxi:91\u001b[0m, in \u001b[0;36mpyarrow.lib.check_status\u001b[1;34m()\u001b[0m\n",
      "\u001b[1;31mArrowMemoryError\u001b[0m: malloc of size 1143099008 failed"
     ]
    }
   ],
   "source": [
    "path = r\"C:\\Users\\Sebma\\OneDrive\\Documents\\Sparta_Global\\Academy\\Week 7\\Cardiovascular-disease-data\\heart_converted.parquet\"\n",
    "heart_df = pd.read_parquet(path)\n",
    "heart_df.info()"
   ]
  },
  {
   "cell_type": "code",
   "execution_count": null,
   "id": "aef45ccf-3b87-43d9-9a78-71eedf24ecdf",
   "metadata": {},
   "outputs": [],
   "source": [
    "heart_df.head()"
   ]
  },
  {
   "cell_type": "markdown",
   "id": "6f8fda6b-5768-4ad2-bf21-94f15fc2d49d",
   "metadata": {},
   "source": [
    "## List of the desired column names:"
   ]
  },
  {
   "cell_type": "code",
   "execution_count": null,
   "id": "03826839-f6d0-45dc-b57f-4958b0db6423",
   "metadata": {},
   "outputs": [],
   "source": [
    "variable_names = [\n",
    "    \"State\",\n",
    "    \"Sex\",\n",
    "    \"General Health\",\n",
    "    \"Physical Health Days\",\n",
    "    \"Mental Health Days\",\n",
    "    \"Last Checkup Time\",\n",
    "    \"Physical Activities\",\n",
    "    \"Sleep Hours\",\n",
    "    \"Removed Teeth\",\n",
    "    \"Had Heart Attack\",\n",
    "    \"Had Angina\",\n",
    "    \"Had CAD or MI\",\n",
    "    \"Had Stroke\",\n",
    "    \"Had Asthma\",\n",
    "    \"Had Skin Cancer\",\n",
    "    \"Had COPD\",\n",
    "    \"Had Depressive Disorder\",\n",
    "    \"Had Kidney Disease\",\n",
    "    \"Had Arthritis\",\n",
    "    \"Had Diabetes\",\n",
    "    \"Deaf or Hard of Hearing\",\n",
    "    \"Blind or Vision Difficulty\",\n",
    "    \"Difficulty Concentrating\",\n",
    "    \"Difficulty Walking\",\n",
    "    \"Difficulty Dressing or Bathing\",\n",
    "    \"Difficulty Errands\",\n",
    "    \"Smoker Status\",\n",
    "    \"Years Smoking\",\n",
    "    \"ECigarette Usage\",\n",
    "    \"Chest Scan\",\n",
    "    \"Race Ethnicity Category\",\n",
    "    \"Age Category\",\n",
    "    \"Height in Meters\",\n",
    "    \"Weight in Kilograms\",\n",
    "    \"BMI Category\",\n",
    "    \"Alcohol Drinker\",\n",
    "    \"HIV Testing\",\n",
    "    \"Flu Vax Last 12 Months\",\n",
    "    \"Pneumo Vax Ever\",\n",
    "    \"Tetanus Tdap Last 10 Years\",\n",
    "    \"High Risk Last Year\",\n",
    "    \"Covid Positive\",\n",
    "    \"Income Category\"\n",
    "]"
   ]
  },
  {
   "cell_type": "markdown",
   "id": "3fcd8a21-4167-4f0b-b177-ac0a72e809bf",
   "metadata": {},
   "source": [
    "## Reading the variable CSV into a Pandas dataframe:\n",
    "\n",
    "#### Explanation:\n",
    "The CSV containing the desired variable names is imported. Chardet is used to detect the encoding of the CSV file and specify the encoding when reading into a Pandas dataframe - this handles UnicodeDecodeError errors."
   ]
  },
  {
   "cell_type": "code",
   "execution_count": null,
   "id": "8aeb3a86-f262-4092-9bbe-744d9ec0db62",
   "metadata": {},
   "outputs": [],
   "source": [
    "var_path = r\"C:\\Users\\Sebma\\OneDrive\\Documents\\Sparta_Global\\Academy\\Week 7\\Cardiovascular-disease-data\\Variable_descriptions.csv\"\n",
    "\n",
    "with open(var_path, 'rb') as file:\n",
    "    result = chardet.detect(file.read())\n",
    "    encoding = result['encoding']\n",
    "\n",
    "var_df = pd.read_csv(var_path, names=['Variable', 'Description'], encoding=encoding)\n",
    "var_df"
   ]
  },
  {
   "cell_type": "markdown",
   "id": "d113ef29-3aa8-4f08-abff-08557b937500",
   "metadata": {},
   "source": [
    "## Converting the variable names to a NumPy array:\n",
    "\n",
    "#### Explanation:\n",
    "Converting the Pandas Variable series to a NumPy array. A NumPy array is used over a Pandas series as it more computationally efficient for large datasets."
   ]
  },
  {
   "cell_type": "code",
   "execution_count": null,
   "id": "3a38c78f-8f20-45a8-abc6-e35d50f52bdd",
   "metadata": {},
   "outputs": [],
   "source": [
    "var_array = var_df['Variable'].to_numpy()\n",
    "var_array"
   ]
  },
  {
   "cell_type": "markdown",
   "id": "7d6df6de-1c7d-49ae-a33c-960e1b051eeb",
   "metadata": {},
   "source": [
    "## Selecting the desired columns from the heart_df dataframe:\n",
    "\n",
    "#### Explanation:\n",
    "Only the desired columns from the heart_df dataframe are selected using the NumPy array of the desired variable names."
   ]
  },
  {
   "cell_type": "code",
   "execution_count": null,
   "id": "f75bbac1-e530-4825-9540-d9318d9b221f",
   "metadata": {},
   "outputs": [],
   "source": [
    "heart_df = heart_df[var_array]"
   ]
  },
  {
   "cell_type": "markdown",
   "id": "f8f4e325-1aa8-4de6-a251-d50790d45bf5",
   "metadata": {},
   "source": [
    "## Converting the names of desired columns into informative names:\n",
    "\n",
    "#### Explanation:\n",
    "The column labels of the filtered heart_df dataframe are set to the desired column names from the variable_names list."
   ]
  },
  {
   "cell_type": "code",
   "execution_count": null,
   "id": "85731eac-1933-4459-b193-8d91a4f2aa66",
   "metadata": {},
   "outputs": [],
   "source": [
    "heart_df.columns = variable_names\n",
    "heart_df"
   ]
  },
  {
   "cell_type": "markdown",
   "id": "9789d2d6-26b2-495f-8376-405533116eed",
   "metadata": {},
   "source": [
    "## Creating a copy of the heart_df dataframe:\n",
    "\n",
    "#### Explanation:\n",
    "The heart_df is copied to preserve the original data. The copy method is used to create a new dataframe in memory rather than reference the original dataframe."
   ]
  },
  {
   "cell_type": "code",
   "execution_count": null,
   "id": "71851ab6-11a8-43a8-a5a9-504125603f80",
   "metadata": {},
   "outputs": [],
   "source": [
    "main_heart_df = heart_df.copy()"
   ]
  },
  {
   "cell_type": "markdown",
   "id": "a153bb98-ceb2-4ea8-9be7-b53cf66c5bbf",
   "metadata": {},
   "source": [
    "## Linking the variable values to their descriptive value:\n",
    "\n",
    "#### Explanation:\n",
    "The values in the raw dataset are represented by numerical values. Here the numerical values are linked to their descriptive value."
   ]
  },
  {
   "cell_type": "code",
   "execution_count": null,
   "id": "65f68add-6e17-4009-a265-591250c30767",
   "metadata": {},
   "outputs": [],
   "source": [
    "State = {\n",
    "    1: \"Alabama\",\n",
    "    2: \"Alaska\",\n",
    "    4: \"Arizona\",\n",
    "    5: \"Arkansas\",\n",
    "    6: \"California\",\n",
    "    8: \"Colorado\",\n",
    "    9: \"Connecticut\",\n",
    "    10: \"Delaware\",\n",
    "    11: \"District of Columbia\",\n",
    "    12: \"Florida\",\n",
    "    13: \"Georgia\",\n",
    "    15: \"Hawaii\",\n",
    "    16: \"Idaho\",\n",
    "    17: \"Illinois\",\n",
    "    18: \"Indiana\",\n",
    "    19: \"Iowa\",\n",
    "    20: \"Kansas\",\n",
    "    21: \"Kentucky\",\n",
    "    22: \"Louisiana\",\n",
    "    23: \"Maine\",\n",
    "    24: \"Maryland\",\n",
    "    25: \"Massachusetts\",\n",
    "    26: \"Michigan\",\n",
    "    27: \"Minnesota\",\n",
    "    28: \"Mississippi\",\n",
    "    29: \"Missouri\",\n",
    "    30: \"Montana\",\n",
    "    31: \"Nebraska\",\n",
    "    32: \"Nevada\",\n",
    "    33: \"New Hampshire\",\n",
    "    34: \"New Jersey\",\n",
    "    35: \"New Mexico\",\n",
    "    36: \"New York\",\n",
    "    37: \"North Carolina\",\n",
    "    38: \"North Dakota\",\n",
    "    39: \"Ohio\",\n",
    "    40: \"Oklahoma\",\n",
    "    41: \"Oregon\",\n",
    "    42: \"Pennsylvania\",\n",
    "    44: \"Rhode Island\",\n",
    "    45: \"South Carolina\",\n",
    "    46: \"South Dakota\",\n",
    "    47: \"Tennessee\",\n",
    "    48: \"Texas\",\n",
    "    49: \"Utah\",\n",
    "    50: \"Vermont\",\n",
    "    51: \"Virginia\",\n",
    "    53: \"Washington\",\n",
    "    54: \"West Virginia\",\n",
    "    55: \"Wisconsin\",\n",
    "    56: \"Wyoming\",\n",
    "    66: \"Guam\",\n",
    "    72: \"Puerto Rico\",\n",
    "    78: \"Virgin Islands\"\n",
    "}\n",
    "\n",
    "Sex = {1: 'Male', 2: 'Female'}\n",
    "\n",
    "General_health = {\n",
    "    1: \"Excellent\",\n",
    "    2: \"Very good\",\n",
    "    3: \"Good\",\n",
    "    4: \"Fair\",\n",
    "    5: \"Poor\",\n",
    "}\n",
    "\n",
    "Phys_mental_health = {\n",
    "    77: np.nan,\n",
    "    88: 0,\n",
    "    99: np.nan\n",
    "}\n",
    "\n",
    "\n",
    "Last_checkup = {\n",
    "    1: \"Within past year\",\n",
    "    2: \"Between 1 and 2 years\",\n",
    "    3: \"Between 2 and 5 years\",\n",
    "    4: \"5 or more years\"\n",
    "}\n",
    "\n",
    "\n",
    "Yes_no_questions = {1: \"Yes\", 2: \"No\"}\n",
    "\n",
    "Sleep_time = lambda x: np.where(x > 24, np.nan, x)\n",
    "\n",
    "\n",
    "Teeth_removed = {\n",
    "    1: \"1-5\",\n",
    "    2: \"6 or more, but not all\",\n",
    "    3: \"All\",\n",
    "    8: \"None\"\n",
    "}\n",
    "\n",
    "Diabetes = {\n",
    "    1: \"Yes\",\n",
    "    2: \"Yes, only during pregnancy\",\n",
    "    3: \"No\",\n",
    "    4: \"No, pre-diabetes or borderline diabetes\",\n",
    "}\n",
    "\n",
    "Smoker_status = {\n",
    "    1: \"Current (every day)\",\n",
    "    2: \"Current (some days)\",\n",
    "    3: \"Former\",\n",
    "    4: \"Never\"\n",
    "}\n",
    "\n",
    "Ecigarettes = {\n",
    "    1: \"Never\",\n",
    "    2: \"Current (every day)\",\n",
    "    3: \"Current (some days)\",\n",
    "    4: \"Former\"\n",
    "}\n",
    "\n",
    "\n",
    "Race = {\n",
    "    1: \"White only\",\n",
    "    2: \"Black only\",\n",
    "    3: \"Other race only\",\n",
    "    4: \"Multiracial, Non-Hispanic\",\n",
    "    5: \"Hispanic\"\n",
    "}\n",
    "\n",
    "BMI_cat = {\n",
    "    1: \"Underweight\",\n",
    "    2: \"Normal weight\",\n",
    "    3: \"Overweight\",\n",
    "    4: \"Obese\"\n",
    "}\n",
    "\n",
    "Age_cat = {\n",
    "    1: \"18 to 24\",\n",
    "    2: \"25 to 29\",\n",
    "    3: \"30 to 34\",\n",
    "    4: \"35 to 39\",\n",
    "    5: \"40 to 44\",\n",
    "    6: \"45 to 49\",\n",
    "    7: \"50 to 54\",\n",
    "    8: \"55 to 59\",\n",
    "    9: \"60 to 64\",\n",
    "    10: \"65 to 69\",\n",
    "    11: \"70 to 74\",\n",
    "    12: \"75 to 79\",\n",
    "    13: \"80 or older\"\n",
    "}\n",
    "\n",
    "Tetanus = {\n",
    "    1: \"Yes\",\n",
    "    2: \"Yes, but not Tdap\",\n",
    "    3: \"Yes, but not sure what type\",\n",
    "    4: \"No\"\n",
    "}\n",
    "\n",
    "COVID = {\n",
    "    1: \"Yes\",\n",
    "    2: \"No\",\n",
    "    3: \"Tested positive using home test without a health professional\"\n",
    "    \n",
    "}\n",
    "\n",
    "Income = {\n",
    "    1: \"Less than $15,000\",\n",
    "    2: \"\\\\$15,000 to $24,999\",\n",
    "    3: \"\\\\$25,000 to $34,999\",\n",
    "    4: \"\\\\$35,000 to $49,999\",\n",
    "    5: \"\\\\$50,000 to $99,999\",\n",
    "    6: \"\\\\$100,000 to $199,999\",\n",
    "    7: \"\\\\$200,000 or more\",\n",
    "    8: np.nan\n",
    "    \n",
    "}"
   ]
  },
  {
   "cell_type": "markdown",
   "id": "70899d34-2755-4829-b8eb-e59a8a0a096b",
   "metadata": {},
   "source": [
    "## Setting descriptive variable values to the dataframe:\n",
    "\n",
    "#### Explanation:\n",
    "Each element in the Pandas series is replaced by the associated value within the dictionary (Element-wise transformation)."
   ]
  },
  {
   "cell_type": "code",
   "execution_count": null,
   "id": "a68ddad2-4097-4445-af44-bb706e13fe3a",
   "metadata": {},
   "outputs": [],
   "source": [
    "main_heart_df['State'] = main_heart_df['State'].map(State)\n",
    "main_heart_df['Sex'] = main_heart_df['Sex'].map(Sex)\n",
    "main_heart_df['General Health'] = main_heart_df['General Health'].map(General_health)\n",
    "main_heart_df['Physical Health Days'] = main_heart_df['Physical Health Days'].replace(Phys_mental_health)\n",
    "main_heart_df['Mental Health Days'] = main_heart_df['Mental Health Days'].replace(Phys_mental_health)\n",
    "main_heart_df['Last Checkup Time'] = main_heart_df['Last Checkup Time'].map(Last_checkup)\n",
    "main_heart_df['Physical Activities'] = main_heart_df['Physical Activities'].map(Yes_no_questions)\n",
    "main_heart_df['Sleep Hours'] = main_heart_df['Sleep Hours'].apply(Sleep_time)\n",
    "main_heart_df['Removed Teeth'] = main_heart_df['Removed Teeth'].map(Teeth_removed)\n",
    "main_heart_df['Had Heart Attack'] = main_heart_df['Had Heart Attack'].map(Yes_no_questions)\n",
    "main_heart_df['Had Angina'] = main_heart_df['Had Angina'].map(Yes_no_questions)\n",
    "main_heart_df['Had CAD or MI'] = main_heart_df['Had CAD or MI'].map(Yes_no_questions)\n",
    "main_heart_df['Had Stroke'] = main_heart_df['Had Stroke'].map(Yes_no_questions)\n",
    "main_heart_df['Had Asthma'] = main_heart_df['Had Asthma'].map(Yes_no_questions)\n",
    "main_heart_df['Had Skin Cancer'] = main_heart_df['Had Skin Cancer'].map(Yes_no_questions)\n",
    "main_heart_df['Had COPD'] = main_heart_df['Had COPD'].map(Yes_no_questions)\n",
    "main_heart_df['Had Depressive Disorder'] = main_heart_df['Had Depressive Disorder'].map(Yes_no_questions)\n",
    "main_heart_df['Had Kidney Disease'] = main_heart_df['Had Kidney Disease'].map(Yes_no_questions)\n",
    "main_heart_df['Had Arthritis'] = main_heart_df['Had Arthritis'].map(Yes_no_questions)\n",
    "main_heart_df['Had Diabetes'] = main_heart_df['Had Diabetes'].map(Diabetes)\n",
    "main_heart_df['Deaf or Hard of Hearing'] = main_heart_df['Deaf or Hard of Hearing'].map(Yes_no_questions)\n",
    "main_heart_df['Blind or Vision Difficulty'] = main_heart_df['Blind or Vision Difficulty'].map(Yes_no_questions)\n",
    "main_heart_df['Difficulty Concentrating'] = main_heart_df['Difficulty Concentrating'].map(Yes_no_questions)\n",
    "main_heart_df['Difficulty Walking'] = main_heart_df['Difficulty Walking'].map(Yes_no_questions)\n",
    "main_heart_df['Difficulty Dressing or Bathing'] = main_heart_df['Difficulty Dressing or Bathing'].map(Yes_no_questions)\n",
    "main_heart_df['Difficulty Errands'] = main_heart_df['Difficulty Errands'].map(Yes_no_questions)\n",
    "main_heart_df['Smoker Status'] = main_heart_df['Smoker Status'].map(Smoker_status)\n",
    "main_heart_df['Years Smoking'] = main_heart_df['Years Smoking'].map\n",
    "main_heart_df['ECigarette Usage'] = main_heart_df['ECigarette Usage'].map(Ecigarettes)\n",
    "main_heart_df['Chest Scan'] = main_heart_df['Chest Scan'].map(Yes_no_questions)\n",
    "main_heart_df['Race Ethnicity Category'] = main_heart_df['Race Ethnicity Category'].map(Race)\n",
    "main_heart_df['Age Category'] = main_heart_df['Age Category'].map(Age_cat)\n",
    "main_heart_df['Height in Meters'] = main_heart_df['Height in Meters'] / 100\n",
    "main_heart_df['Weight in Kilograms'] = main_heart_df['Weight in Kilograms'] / 100\n",
    "main_heart_df['BMI Category'] = main_heart_df['BMI Category'].map(BMI_cat)\n",
    "main_heart_df['Alcohol Drinker'] = main_heart_df['Alcohol Drinker'].map(Yes_no_questions)\n",
    "main_heart_df['HIV Testing'] = main_heart_df['HIV Testing'].map(Yes_no_questions)\n",
    "main_heart_df['Flu Vax Last 12 Months'] = main_heart_df['Flu Vax Last 12 Months'].map(Yes_no_questions)\n",
    "main_heart_df['Pneumo Vax Ever'] = main_heart_df['Pneumo Vax Ever'].map(Yes_no_questions)\n",
    "main_heart_df['Tetanus Tdap Last 10 Years'] = main_heart_df['Tetanus Tdap Last 10 Years'].map(Tetanus)\n",
    "main_heart_df['High Risk Last Year'] = main_heart_df['High Risk Last Year'].map(Yes_no_questions)\n",
    "main_heart_df['Covid Positive'] = main_heart_df['Covid Positive'].map(COVID)\n",
    "main_heart_df['Income Category'] = main_heart_df['Income Category'].map(Income)"
   ]
  },
  {
   "cell_type": "markdown",
   "id": "3b3a7033-9f5c-4891-bac6-977ba8467b52",
   "metadata": {},
   "source": [
    "## Dropping any rows that are missing data on cardiovascular disease:\n",
    "\n",
    "#### Explanation:\n",
    "Rows missing data in the 'Had CAD or MI' column are dropped from the dataset as this column is a primary indicator of cardiovascular disease."
   ]
  },
  {
   "cell_type": "code",
   "execution_count": null,
   "id": "1ccedd03-e100-40af-b25d-a20afd9264ab",
   "metadata": {},
   "outputs": [],
   "source": [
    "main_heart_df = main_heart_df.dropna(subset=['Had CAD or MI'])"
   ]
  },
  {
   "cell_type": "code",
   "execution_count": null,
   "id": "d420d0a6-6192-48b1-aecf-1be57243a1e3",
   "metadata": {},
   "outputs": [],
   "source": [
    "main_heart_df"
   ]
  },
  {
   "cell_type": "markdown",
   "id": "df15293c-df6f-4f56-a8d5-19e812c3361c",
   "metadata": {},
   "source": [
    "# Data Visualisation:"
   ]
  },
  {
   "cell_type": "code",
   "execution_count": null,
   "id": "69d9258d-ea49-47e4-8823-b1ef1a126f73",
   "metadata": {},
   "outputs": [],
   "source": [
    "visual_heart_df = main_heart_df.copy()"
   ]
  },
  {
   "cell_type": "code",
   "execution_count": null,
   "id": "3e0bf0b6-cccd-4075-b5c1-8d4fa97b82aa",
   "metadata": {},
   "outputs": [],
   "source": [
    "%matplotlib inline"
   ]
  },
  {
   "cell_type": "code",
   "execution_count": null,
   "id": "5fc96f35-b276-428a-8533-43bd45761b02",
   "metadata": {},
   "outputs": [],
   "source": [
    "visual_heart_df['Had CAD or MI'] = visual_heart_df['Had CAD or MI'].map({'Yes': 1, 'No': 0})\n",
    "\n",
    "proportions = visual_heart_df.groupby('Smoker Status')['Had CAD or MI'].mean().reset_index()\n",
    "proportions\n",
    "\n"
   ]
  },
  {
   "cell_type": "code",
   "execution_count": null,
   "id": "98677d76-c573-45b4-823a-667bbfa0e9e6",
   "metadata": {},
   "outputs": [],
   "source": []
  },
  {
   "cell_type": "code",
   "execution_count": null,
   "id": "4a1b83ec-c03a-44fe-8f25-b9a376a33920",
   "metadata": {},
   "outputs": [],
   "source": []
  }
 ],
 "metadata": {
  "kernelspec": {
   "display_name": "Python 3 (ipykernel)",
   "language": "python",
   "name": "python3"
  },
  "language_info": {
   "codemirror_mode": {
    "name": "ipython",
    "version": 3
   },
   "file_extension": ".py",
   "mimetype": "text/x-python",
   "name": "python",
   "nbconvert_exporter": "python",
   "pygments_lexer": "ipython3",
   "version": "3.12.0"
  }
 },
 "nbformat": 4,
 "nbformat_minor": 5
}
